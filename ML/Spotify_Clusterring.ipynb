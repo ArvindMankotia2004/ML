{
  "metadata": {
    "kernelspec": {
      "language": "python",
      "display_name": "Python 3",
      "name": "python3"
    },
    "language_info": {
      "name": "python",
      "version": "3.11.13",
      "mimetype": "text/x-python",
      "codemirror_mode": {
        "name": "ipython",
        "version": 3
      },
      "pygments_lexer": "ipython3",
      "nbconvert_exporter": "python",
      "file_extension": ".py"
    },
    "kaggle": {
      "accelerator": "none",
      "dataSources": [
        {
          "sourceId": 12440102,
          "sourceType": "datasetVersion",
          "datasetId": 7847230
        }
      ],
      "dockerImageVersionId": 31089,
      "isInternetEnabled": true,
      "language": "python",
      "sourceType": "notebook",
      "isGpuEnabled": false
    },
    "colab": {
      "name": "Spotify_Clusterring",
      "provenance": [],
      "include_colab_link": true
    }
  },
  "nbformat_minor": 0,
  "nbformat": 4,
  "cells": [
    {
      "cell_type": "markdown",
      "metadata": {
        "id": "view-in-github",
        "colab_type": "text"
      },
      "source": [
        "<a href=\"https://colab.research.google.com/github/ArvindMankotia2004/ML/blob/main/ML/Spotify_Clusterring.ipynb\" target=\"_parent\"><img src=\"https://colab.research.google.com/assets/colab-badge.svg\" alt=\"Open In Colab\"/></a>"
      ]
    },
    {
      "source": [
        "# IMPORTANT: SOME KAGGLE DATA SOURCES ARE PRIVATE\n",
        "# RUN THIS CELL IN ORDER TO IMPORT YOUR KAGGLE DATA SOURCES.\n",
        "import kagglehub\n",
        "kagglehub.login()\n"
      ],
      "metadata": {
        "id": "izMzVEkGSeMG"
      },
      "cell_type": "code",
      "outputs": [],
      "execution_count": null
    },
    {
      "source": [
        "# IMPORTANT: RUN THIS CELL IN ORDER TO IMPORT YOUR KAGGLE DATA SOURCES,\n",
        "# THEN FEEL FREE TO DELETE THIS CELL.\n",
        "# NOTE: THIS NOTEBOOK ENVIRONMENT DIFFERS FROM KAGGLE'S PYTHON\n",
        "# ENVIRONMENT SO THERE MAY BE MISSING LIBRARIES USED BY YOUR\n",
        "# NOTEBOOK.\n",
        "\n",
        "arvindmankotia_spotify_final_path = kagglehub.dataset_download('arvindmankotia/spotify-final')\n",
        "\n",
        "print('Data source import complete.')\n"
      ],
      "metadata": {
        "id": "z4gau3H7SeMN"
      },
      "cell_type": "code",
      "outputs": [],
      "execution_count": null
    },
    {
      "cell_type": "code",
      "source": [
        "# This Python 3 environment comes with many helpful analytics libraries installed\n",
        "# It is defined by the kaggle/python Docker image: https://github.com/kaggle/docker-python\n",
        "# For example, here's several helpful packages to load\n",
        "\n",
        "import numpy as np # linear algebra\n",
        "import pandas as pd # data processing, CSV file I/O (e.g. pd.read_csv)\n",
        "\n",
        "# Input data files are available in the read-only \"../input/\" directory\n",
        "# For example, running this (by clicking run or pressing Shift+Enter) will list all files under the input directory\n",
        "\n",
        "import os\n",
        "for dirname, _, filenames in os.walk('/kaggle/input'):\n",
        "    for filename in filenames:\n",
        "        print(os.path.join(dirname, filename))\n",
        "\n",
        "# You can write up to 20GB to the current directory (/kaggle/working/) that gets preserved as output when you create a version using \"Save & Run All\"\n",
        "# You can also write temporary files to /kaggle/temp/, but they won't be saved outside of the current session"
      ],
      "metadata": {
        "_uuid": "8f2839f25d086af736a60e9eeb907d3b93b6e0e5",
        "_cell_guid": "b1076dfc-b9ad-4769-8c92-a6c4dae69d19",
        "trusted": true,
        "execution": {
          "iopub.status.busy": "2025-07-14T12:09:45.412161Z",
          "iopub.execute_input": "2025-07-14T12:09:45.412699Z",
          "iopub.status.idle": "2025-07-14T12:09:45.430209Z",
          "shell.execute_reply.started": "2025-07-14T12:09:45.412675Z",
          "shell.execute_reply": "2025-07-14T12:09:45.429654Z"
        },
        "id": "Afe2VEUbSeMP",
        "outputId": "4543046a-f0a3-499f-8f5b-fc72dbe6422e"
      },
      "outputs": [
        {
          "name": "stdout",
          "text": "/kaggle/input/spotify-final/echonest.csv\n/kaggle/input/spotify-final/genres.csv\n/kaggle/input/spotify-final/tracks.csv\n",
          "output_type": "stream"
        }
      ],
      "execution_count": null
    },
    {
      "cell_type": "code",
      "source": [
        "import pandas as pd\n",
        "from sklearn.preprocessing import StandardScaler\n",
        "import matplotlib.pyplot as plt\n",
        "import seaborn as sns\n",
        "from sklearn.cluster import KMeans\n",
        "from sklearn.decomposition import PCA\n",
        "import warnings\n",
        "warnings.filterwarnings('ignore')"
      ],
      "metadata": {
        "trusted": true,
        "execution": {
          "iopub.status.busy": "2025-07-14T12:09:45.431431Z",
          "iopub.execute_input": "2025-07-14T12:09:45.431727Z",
          "iopub.status.idle": "2025-07-14T12:09:45.438925Z",
          "shell.execute_reply.started": "2025-07-14T12:09:45.43171Z",
          "shell.execute_reply": "2025-07-14T12:09:45.438336Z"
        },
        "id": "Z5e-nvN5SeMT"
      },
      "outputs": [],
      "execution_count": null
    },
    {
      "cell_type": "code",
      "source": [
        "tracks=pd.read_csv('/kaggle/input/spotify-final/tracks.csv',index_col=0,header=[0,1])\n",
        "tracks"
      ],
      "metadata": {
        "trusted": true,
        "execution": {
          "iopub.status.busy": "2025-07-14T12:09:45.439545Z",
          "iopub.execute_input": "2025-07-14T12:09:45.43972Z",
          "iopub.status.idle": "2025-07-14T12:09:48.098979Z",
          "shell.execute_reply.started": "2025-07-14T12:09:45.439706Z",
          "shell.execute_reply": "2025-07-14T12:09:48.098149Z"
        },
        "id": "yFmKRYhlSeMU",
        "outputId": "561aae92-d5b0-4230-a91e-8dd41a3db18f"
      },
      "outputs": [
        {
          "execution_count": 75,
          "output_type": "execute_result",
          "data": {
            "text/plain": "            album                                                     \\\n         comments         date_created        date_released engineer   \ntrack_id                                                               \n2               0  2008-11-26 01:44:45  2009-01-05 00:00:00      NaN   \n3               0  2008-11-26 01:44:45  2009-01-05 00:00:00      NaN   \n5               0  2008-11-26 01:44:45  2009-01-05 00:00:00      NaN   \n10              0  2008-11-26 01:45:08  2008-02-06 00:00:00      NaN   \n20              0  2008-11-26 01:45:05  2009-01-06 00:00:00      NaN   \n...           ...                  ...                  ...      ...   \n155316          0  2017-03-30 15:20:35  2017-02-17 00:00:00      NaN   \n155317          0  2017-03-30 15:20:35  2017-02-17 00:00:00      NaN   \n155318          0  2017-03-30 15:20:35  2017-02-17 00:00:00      NaN   \n155319          0  2017-03-30 15:20:35  2017-02-17 00:00:00      NaN   \n155320          0  2017-03-26 16:22:18  2017-03-26 00:00:00      NaN   \n\n                                                                              \\\n         favorites     id                                        information   \ntrack_id                                                                       \n2                4      1                                            <p></p>   \n3                4      1                                            <p></p>   \n5                4      1                                            <p></p>   \n10               4      6                                                NaN   \n20               2      4          <p> \"spiritual songs\" from Nicky Cook</p>   \n...            ...    ...                                                ...   \n155316           0  22940  <p>A live performance at Monty Hall on Feb 17,...   \n155317           0  22940  <p>A live performance at Monty Hall on Feb 17,...   \n155318           0  22940  <p>A live performance at Monty Hall on Feb 17,...   \n155319           0  22940  <p>A live performance at Monty Hall on Feb 17,...   \n155320           1  22906                                                NaN   \n\n                               \\\n         listens     producer   \ntrack_id                        \n2           6073          NaN   \n3           6073          NaN   \n5           6073          NaN   \n10         47632          NaN   \n20          2710          NaN   \n...          ...          ...   \n155316      1506  Monty Hall    \n155317      1506  Monty Hall    \n155318      1506  Monty Hall    \n155319      1506  Monty Hall    \n155320      7481          NaN   \n\n                                                             ...       track  \\\n                                                       tags  ... information   \ntrack_id                                                     ...               \n2                                                        []  ...         NaN   \n3                                                        []  ...         NaN   \n5                                                        []  ...         NaN   \n10                                                       []  ...         NaN   \n20                                                       []  ...         NaN   \n...                                                     ...  ...         ...   \n155316                                                   []  ...         NaN   \n155317                                                   []  ...         NaN   \n155318                                                   []  ...         NaN   \n155319                                                   []  ...         NaN   \n155320    ['ballad', 'epic', 'rockabilly', 'curse', 'hex...  ...         NaN   \n\n                                 \\\n         interest language_code   \ntrack_id                          \n2            4656            en   \n3            1470            en   \n5            1933            en   \n10          54881            en   \n20            978            en   \n...           ...           ...   \n155316        122           NaN   \n155317        194           NaN   \n155318        214           NaN   \n155319        336           NaN   \n155320        972           NaN   \n\n                                                                              \\\n                                                    license listens lyricist   \ntrack_id                                                                       \n2         Attribution-NonCommercial-ShareAlike 3.0 Inter...    1293      NaN   \n3         Attribution-NonCommercial-ShareAlike 3.0 Inter...     514      NaN   \n5         Attribution-NonCommercial-ShareAlike 3.0 Inter...    1151      NaN   \n10        Attribution-NonCommercial-NoDerivatives (aka M...   50135      NaN   \n20        Attribution-NonCommercial-NoDerivatives (aka M...     361      NaN   \n...                                                     ...     ...      ...   \n155316    Creative Commons Attribution-NonCommercial-NoD...     102      NaN   \n155317    Creative Commons Attribution-NonCommercial-NoD...     165      NaN   \n155318    Creative Commons Attribution-NonCommercial-NoD...     168      NaN   \n155319    Creative Commons Attribution-NonCommercial-NoD...     294      NaN   \n155320                            Attribution-NonCommercial     705      NaN   \n\n                                                                              \\\n         number publisher                                               tags   \ntrack_id                                                                       \n2             3       NaN                                                 []   \n3             4       NaN                                                 []   \n5             6       NaN                                                 []   \n10            1       NaN                                                 []   \n20            3       NaN                                                 []   \n...         ...       ...                                                ...   \n155316        3       NaN                                                 []   \n155317        4       NaN                                                 []   \n155318        6       NaN                                                 []   \n155319        5       NaN                                                 []   \n155320        7       NaN  ['ballad', 'epic', 'rockabilly', 'curse', 'hex...   \n\n                                                     \n                                              title  \ntrack_id                                             \n2                                              Food  \n3                                      Electric Ave  \n5                                        This World  \n10                                          Freeway  \n20                                  Spiritual Level  \n...                                             ...  \n155316                                    The Auger  \n155317                              Let's Skin Ruby  \n155318           My House Smells Like Kim Deal/Pulp  \n155319                      The Man With Two Mouths  \n155320    Another Trick Up My Sleeve (Instrumental)  \n\n[106574 rows x 52 columns]",
            "text/html": "<div>\n<style scoped>\n    .dataframe tbody tr th:only-of-type {\n        vertical-align: middle;\n    }\n\n    .dataframe tbody tr th {\n        vertical-align: top;\n    }\n\n    .dataframe thead tr th {\n        text-align: left;\n    }\n\n    .dataframe thead tr:last-of-type th {\n        text-align: right;\n    }\n</style>\n<table border=\"1\" class=\"dataframe\">\n  <thead>\n    <tr>\n      <th></th>\n      <th colspan=\"10\" halign=\"left\">album</th>\n      <th>...</th>\n      <th colspan=\"10\" halign=\"left\">track</th>\n    </tr>\n    <tr>\n      <th></th>\n      <th>comments</th>\n      <th>date_created</th>\n      <th>date_released</th>\n      <th>engineer</th>\n      <th>favorites</th>\n      <th>id</th>\n      <th>information</th>\n      <th>listens</th>\n      <th>producer</th>\n      <th>tags</th>\n      <th>...</th>\n      <th>information</th>\n      <th>interest</th>\n      <th>language_code</th>\n      <th>license</th>\n      <th>listens</th>\n      <th>lyricist</th>\n      <th>number</th>\n      <th>publisher</th>\n      <th>tags</th>\n      <th>title</th>\n    </tr>\n    <tr>\n      <th>track_id</th>\n      <th></th>\n      <th></th>\n      <th></th>\n      <th></th>\n      <th></th>\n      <th></th>\n      <th></th>\n      <th></th>\n      <th></th>\n      <th></th>\n      <th></th>\n      <th></th>\n      <th></th>\n      <th></th>\n      <th></th>\n      <th></th>\n      <th></th>\n      <th></th>\n      <th></th>\n      <th></th>\n      <th></th>\n    </tr>\n  </thead>\n  <tbody>\n    <tr>\n      <th>2</th>\n      <td>0</td>\n      <td>2008-11-26 01:44:45</td>\n      <td>2009-01-05 00:00:00</td>\n      <td>NaN</td>\n      <td>4</td>\n      <td>1</td>\n      <td>&lt;p&gt;&lt;/p&gt;</td>\n      <td>6073</td>\n      <td>NaN</td>\n      <td>[]</td>\n      <td>...</td>\n      <td>NaN</td>\n      <td>4656</td>\n      <td>en</td>\n      <td>Attribution-NonCommercial-ShareAlike 3.0 Inter...</td>\n      <td>1293</td>\n      <td>NaN</td>\n      <td>3</td>\n      <td>NaN</td>\n      <td>[]</td>\n      <td>Food</td>\n    </tr>\n    <tr>\n      <th>3</th>\n      <td>0</td>\n      <td>2008-11-26 01:44:45</td>\n      <td>2009-01-05 00:00:00</td>\n      <td>NaN</td>\n      <td>4</td>\n      <td>1</td>\n      <td>&lt;p&gt;&lt;/p&gt;</td>\n      <td>6073</td>\n      <td>NaN</td>\n      <td>[]</td>\n      <td>...</td>\n      <td>NaN</td>\n      <td>1470</td>\n      <td>en</td>\n      <td>Attribution-NonCommercial-ShareAlike 3.0 Inter...</td>\n      <td>514</td>\n      <td>NaN</td>\n      <td>4</td>\n      <td>NaN</td>\n      <td>[]</td>\n      <td>Electric Ave</td>\n    </tr>\n    <tr>\n      <th>5</th>\n      <td>0</td>\n      <td>2008-11-26 01:44:45</td>\n      <td>2009-01-05 00:00:00</td>\n      <td>NaN</td>\n      <td>4</td>\n      <td>1</td>\n      <td>&lt;p&gt;&lt;/p&gt;</td>\n      <td>6073</td>\n      <td>NaN</td>\n      <td>[]</td>\n      <td>...</td>\n      <td>NaN</td>\n      <td>1933</td>\n      <td>en</td>\n      <td>Attribution-NonCommercial-ShareAlike 3.0 Inter...</td>\n      <td>1151</td>\n      <td>NaN</td>\n      <td>6</td>\n      <td>NaN</td>\n      <td>[]</td>\n      <td>This World</td>\n    </tr>\n    <tr>\n      <th>10</th>\n      <td>0</td>\n      <td>2008-11-26 01:45:08</td>\n      <td>2008-02-06 00:00:00</td>\n      <td>NaN</td>\n      <td>4</td>\n      <td>6</td>\n      <td>NaN</td>\n      <td>47632</td>\n      <td>NaN</td>\n      <td>[]</td>\n      <td>...</td>\n      <td>NaN</td>\n      <td>54881</td>\n      <td>en</td>\n      <td>Attribution-NonCommercial-NoDerivatives (aka M...</td>\n      <td>50135</td>\n      <td>NaN</td>\n      <td>1</td>\n      <td>NaN</td>\n      <td>[]</td>\n      <td>Freeway</td>\n    </tr>\n    <tr>\n      <th>20</th>\n      <td>0</td>\n      <td>2008-11-26 01:45:05</td>\n      <td>2009-01-06 00:00:00</td>\n      <td>NaN</td>\n      <td>2</td>\n      <td>4</td>\n      <td>&lt;p&gt; \"spiritual songs\" from Nicky Cook&lt;/p&gt;</td>\n      <td>2710</td>\n      <td>NaN</td>\n      <td>[]</td>\n      <td>...</td>\n      <td>NaN</td>\n      <td>978</td>\n      <td>en</td>\n      <td>Attribution-NonCommercial-NoDerivatives (aka M...</td>\n      <td>361</td>\n      <td>NaN</td>\n      <td>3</td>\n      <td>NaN</td>\n      <td>[]</td>\n      <td>Spiritual Level</td>\n    </tr>\n    <tr>\n      <th>...</th>\n      <td>...</td>\n      <td>...</td>\n      <td>...</td>\n      <td>...</td>\n      <td>...</td>\n      <td>...</td>\n      <td>...</td>\n      <td>...</td>\n      <td>...</td>\n      <td>...</td>\n      <td>...</td>\n      <td>...</td>\n      <td>...</td>\n      <td>...</td>\n      <td>...</td>\n      <td>...</td>\n      <td>...</td>\n      <td>...</td>\n      <td>...</td>\n      <td>...</td>\n      <td>...</td>\n    </tr>\n    <tr>\n      <th>155316</th>\n      <td>0</td>\n      <td>2017-03-30 15:20:35</td>\n      <td>2017-02-17 00:00:00</td>\n      <td>NaN</td>\n      <td>0</td>\n      <td>22940</td>\n      <td>&lt;p&gt;A live performance at Monty Hall on Feb 17,...</td>\n      <td>1506</td>\n      <td>Monty Hall</td>\n      <td>[]</td>\n      <td>...</td>\n      <td>NaN</td>\n      <td>122</td>\n      <td>NaN</td>\n      <td>Creative Commons Attribution-NonCommercial-NoD...</td>\n      <td>102</td>\n      <td>NaN</td>\n      <td>3</td>\n      <td>NaN</td>\n      <td>[]</td>\n      <td>The Auger</td>\n    </tr>\n    <tr>\n      <th>155317</th>\n      <td>0</td>\n      <td>2017-03-30 15:20:35</td>\n      <td>2017-02-17 00:00:00</td>\n      <td>NaN</td>\n      <td>0</td>\n      <td>22940</td>\n      <td>&lt;p&gt;A live performance at Monty Hall on Feb 17,...</td>\n      <td>1506</td>\n      <td>Monty Hall</td>\n      <td>[]</td>\n      <td>...</td>\n      <td>NaN</td>\n      <td>194</td>\n      <td>NaN</td>\n      <td>Creative Commons Attribution-NonCommercial-NoD...</td>\n      <td>165</td>\n      <td>NaN</td>\n      <td>4</td>\n      <td>NaN</td>\n      <td>[]</td>\n      <td>Let's Skin Ruby</td>\n    </tr>\n    <tr>\n      <th>155318</th>\n      <td>0</td>\n      <td>2017-03-30 15:20:35</td>\n      <td>2017-02-17 00:00:00</td>\n      <td>NaN</td>\n      <td>0</td>\n      <td>22940</td>\n      <td>&lt;p&gt;A live performance at Monty Hall on Feb 17,...</td>\n      <td>1506</td>\n      <td>Monty Hall</td>\n      <td>[]</td>\n      <td>...</td>\n      <td>NaN</td>\n      <td>214</td>\n      <td>NaN</td>\n      <td>Creative Commons Attribution-NonCommercial-NoD...</td>\n      <td>168</td>\n      <td>NaN</td>\n      <td>6</td>\n      <td>NaN</td>\n      <td>[]</td>\n      <td>My House Smells Like Kim Deal/Pulp</td>\n    </tr>\n    <tr>\n      <th>155319</th>\n      <td>0</td>\n      <td>2017-03-30 15:20:35</td>\n      <td>2017-02-17 00:00:00</td>\n      <td>NaN</td>\n      <td>0</td>\n      <td>22940</td>\n      <td>&lt;p&gt;A live performance at Monty Hall on Feb 17,...</td>\n      <td>1506</td>\n      <td>Monty Hall</td>\n      <td>[]</td>\n      <td>...</td>\n      <td>NaN</td>\n      <td>336</td>\n      <td>NaN</td>\n      <td>Creative Commons Attribution-NonCommercial-NoD...</td>\n      <td>294</td>\n      <td>NaN</td>\n      <td>5</td>\n      <td>NaN</td>\n      <td>[]</td>\n      <td>The Man With Two Mouths</td>\n    </tr>\n    <tr>\n      <th>155320</th>\n      <td>0</td>\n      <td>2017-03-26 16:22:18</td>\n      <td>2017-03-26 00:00:00</td>\n      <td>NaN</td>\n      <td>1</td>\n      <td>22906</td>\n      <td>NaN</td>\n      <td>7481</td>\n      <td>NaN</td>\n      <td>['ballad', 'epic', 'rockabilly', 'curse', 'hex...</td>\n      <td>...</td>\n      <td>NaN</td>\n      <td>972</td>\n      <td>NaN</td>\n      <td>Attribution-NonCommercial</td>\n      <td>705</td>\n      <td>NaN</td>\n      <td>7</td>\n      <td>NaN</td>\n      <td>['ballad', 'epic', 'rockabilly', 'curse', 'hex...</td>\n      <td>Another Trick Up My Sleeve (Instrumental)</td>\n    </tr>\n  </tbody>\n</table>\n<p>106574 rows × 52 columns</p>\n</div>"
          },
          "metadata": {}
        }
      ],
      "execution_count": null
    },
    {
      "cell_type": "code",
      "source": [
        "tracks.info()"
      ],
      "metadata": {
        "trusted": true,
        "execution": {
          "iopub.status.busy": "2025-07-14T12:09:48.100294Z",
          "iopub.execute_input": "2025-07-14T12:09:48.1006Z",
          "iopub.status.idle": "2025-07-14T12:09:48.251538Z",
          "shell.execute_reply.started": "2025-07-14T12:09:48.100573Z",
          "shell.execute_reply": "2025-07-14T12:09:48.2509Z"
        },
        "id": "BF8IcXjwSeMV",
        "outputId": "e28c6271-97cd-465e-9513-8f996f41f6dc"
      },
      "outputs": [
        {
          "name": "stdout",
          "text": "<class 'pandas.core.frame.DataFrame'>\nIndex: 106574 entries, 2 to 155320\nData columns (total 52 columns):\n #   Column                       Non-Null Count   Dtype  \n---  ------                       --------------   -----  \n 0   (album, comments)            106574 non-null  int64  \n 1   (album, date_created)        103045 non-null  object \n 2   (album, date_released)       70294 non-null   object \n 3   (album, engineer)            15295 non-null   object \n 4   (album, favorites)           106574 non-null  int64  \n 5   (album, id)                  106574 non-null  int64  \n 6   (album, information)         83149 non-null   object \n 7   (album, listens)             106574 non-null  int64  \n 8   (album, producer)            18060 non-null   object \n 9   (album, tags)                106574 non-null  object \n 10  (album, title)               105549 non-null  object \n 11  (album, tracks)              106574 non-null  int64  \n 12  (album, type)                100066 non-null  object \n 13  (artist, active_year_begin)  22711 non-null   object \n 14  (artist, active_year_end)    5375 non-null    object \n 15  (artist, associated_labels)  14271 non-null   object \n 16  (artist, bio)                71156 non-null   object \n 17  (artist, comments)           106574 non-null  int64  \n 18  (artist, date_created)       105718 non-null  object \n 19  (artist, favorites)          106574 non-null  int64  \n 20  (artist, id)                 106574 non-null  int64  \n 21  (artist, latitude)           44544 non-null   float64\n 22  (artist, location)           70210 non-null   object \n 23  (artist, longitude)          44544 non-null   float64\n 24  (artist, members)            46849 non-null   object \n 25  (artist, name)               106574 non-null  object \n 26  (artist, related_projects)   13152 non-null   object \n 27  (artist, tags)               106574 non-null  object \n 28  (artist, website)            79256 non-null   object \n 29  (artist, wikipedia_page)     5581 non-null    object \n 30  (set, split)                 106574 non-null  object \n 31  (set, subset)                106574 non-null  object \n 32  (track, bit_rate)            106574 non-null  int64  \n 33  (track, comments)            106574 non-null  int64  \n 34  (track, composer)            3670 non-null    object \n 35  (track, date_created)        106574 non-null  object \n 36  (track, date_recorded)       6159 non-null    object \n 37  (track, duration)            106574 non-null  int64  \n 38  (track, favorites)           106574 non-null  int64  \n 39  (track, genre_top)           49598 non-null   object \n 40  (track, genres)              106574 non-null  object \n 41  (track, genres_all)          106574 non-null  object \n 42  (track, information)         2349 non-null    object \n 43  (track, interest)            106574 non-null  int64  \n 44  (track, language_code)       15024 non-null   object \n 45  (track, license)             106487 non-null  object \n 46  (track, listens)             106574 non-null  int64  \n 47  (track, lyricist)            311 non-null     object \n 48  (track, number)              106574 non-null  int64  \n 49  (track, publisher)           1263 non-null    object \n 50  (track, tags)                106574 non-null  object \n 51  (track, title)               106573 non-null  object \ndtypes: float64(2), int64(15), object(35)\nmemory usage: 43.1+ MB\n",
          "output_type": "stream"
        }
      ],
      "execution_count": null
    },
    {
      "cell_type": "code",
      "source": [
        "tracks.isnull().sum()"
      ],
      "metadata": {
        "trusted": true,
        "execution": {
          "iopub.status.busy": "2025-07-14T12:09:48.253027Z",
          "iopub.execute_input": "2025-07-14T12:09:48.253286Z",
          "iopub.status.idle": "2025-07-14T12:09:48.391244Z",
          "shell.execute_reply.started": "2025-07-14T12:09:48.25327Z",
          "shell.execute_reply": "2025-07-14T12:09:48.390701Z"
        },
        "id": "X5xqWP39SeMW",
        "outputId": "af6bc314-1dac-468e-b67f-731495410426"
      },
      "outputs": [
        {
          "execution_count": 77,
          "output_type": "execute_result",
          "data": {
            "text/plain": "album   comments                  0\n        date_created           3529\n        date_released         36280\n        engineer              91279\n        favorites                 0\n        id                        0\n        information           23425\n        listens                   0\n        producer              88514\n        tags                      0\n        title                  1025\n        tracks                    0\n        type                   6508\nartist  active_year_begin     83863\n        active_year_end      101199\n        associated_labels     92303\n        bio                   35418\n        comments                  0\n        date_created            856\n        favorites                 0\n        id                        0\n        latitude              62030\n        location              36364\n        longitude             62030\n        members               59725\n        name                      0\n        related_projects      93422\n        tags                      0\n        website               27318\n        wikipedia_page       100993\nset     split                     0\n        subset                    0\ntrack   bit_rate                  0\n        comments                  0\n        composer             102904\n        date_created              0\n        date_recorded        100415\n        duration                  0\n        favorites                 0\n        genre_top             56976\n        genres                    0\n        genres_all                0\n        information          104225\n        interest                  0\n        language_code         91550\n        license                  87\n        listens                   0\n        lyricist             106263\n        number                    0\n        publisher            105311\n        tags                      0\n        title                     1\ndtype: int64"
          },
          "metadata": {}
        }
      ],
      "execution_count": null
    },
    {
      "cell_type": "code",
      "source": [
        "genres=pd.read_csv('/kaggle/input/spotify-final/genres.csv')\n",
        "genres"
      ],
      "metadata": {
        "trusted": true,
        "execution": {
          "iopub.status.busy": "2025-07-14T12:09:48.391863Z",
          "iopub.execute_input": "2025-07-14T12:09:48.39205Z",
          "iopub.status.idle": "2025-07-14T12:09:48.40247Z",
          "shell.execute_reply.started": "2025-07-14T12:09:48.392036Z",
          "shell.execute_reply": "2025-07-14T12:09:48.401827Z"
        },
        "id": "yGmHkVeeSeMX",
        "outputId": "d28d4999-38e9-4f56-c5bf-055f59a6a90a"
      },
      "outputs": [
        {
          "execution_count": 78,
          "output_type": "execute_result",
          "data": {
            "text/plain": "     genre_id  #tracks  parent          title  top_level\n0           1     8693      38    Avant-Garde         38\n1           2     5271       0  International          2\n2           3     1752       0          Blues          3\n3           4     4126       0           Jazz          4\n4           5     4106       0      Classical          5\n..        ...      ...     ...            ...        ...\n158      1032       60     102        Turkish          2\n159      1060       30      46          Tango          2\n160      1156       26     130           Fado          2\n161      1193       72     763      Christmas         38\n162      1235    14938       0   Instrumental       1235\n\n[163 rows x 5 columns]",
            "text/html": "<div>\n<style scoped>\n    .dataframe tbody tr th:only-of-type {\n        vertical-align: middle;\n    }\n\n    .dataframe tbody tr th {\n        vertical-align: top;\n    }\n\n    .dataframe thead th {\n        text-align: right;\n    }\n</style>\n<table border=\"1\" class=\"dataframe\">\n  <thead>\n    <tr style=\"text-align: right;\">\n      <th></th>\n      <th>genre_id</th>\n      <th>#tracks</th>\n      <th>parent</th>\n      <th>title</th>\n      <th>top_level</th>\n    </tr>\n  </thead>\n  <tbody>\n    <tr>\n      <th>0</th>\n      <td>1</td>\n      <td>8693</td>\n      <td>38</td>\n      <td>Avant-Garde</td>\n      <td>38</td>\n    </tr>\n    <tr>\n      <th>1</th>\n      <td>2</td>\n      <td>5271</td>\n      <td>0</td>\n      <td>International</td>\n      <td>2</td>\n    </tr>\n    <tr>\n      <th>2</th>\n      <td>3</td>\n      <td>1752</td>\n      <td>0</td>\n      <td>Blues</td>\n      <td>3</td>\n    </tr>\n    <tr>\n      <th>3</th>\n      <td>4</td>\n      <td>4126</td>\n      <td>0</td>\n      <td>Jazz</td>\n      <td>4</td>\n    </tr>\n    <tr>\n      <th>4</th>\n      <td>5</td>\n      <td>4106</td>\n      <td>0</td>\n      <td>Classical</td>\n      <td>5</td>\n    </tr>\n    <tr>\n      <th>...</th>\n      <td>...</td>\n      <td>...</td>\n      <td>...</td>\n      <td>...</td>\n      <td>...</td>\n    </tr>\n    <tr>\n      <th>158</th>\n      <td>1032</td>\n      <td>60</td>\n      <td>102</td>\n      <td>Turkish</td>\n      <td>2</td>\n    </tr>\n    <tr>\n      <th>159</th>\n      <td>1060</td>\n      <td>30</td>\n      <td>46</td>\n      <td>Tango</td>\n      <td>2</td>\n    </tr>\n    <tr>\n      <th>160</th>\n      <td>1156</td>\n      <td>26</td>\n      <td>130</td>\n      <td>Fado</td>\n      <td>2</td>\n    </tr>\n    <tr>\n      <th>161</th>\n      <td>1193</td>\n      <td>72</td>\n      <td>763</td>\n      <td>Christmas</td>\n      <td>38</td>\n    </tr>\n    <tr>\n      <th>162</th>\n      <td>1235</td>\n      <td>14938</td>\n      <td>0</td>\n      <td>Instrumental</td>\n      <td>1235</td>\n    </tr>\n  </tbody>\n</table>\n<p>163 rows × 5 columns</p>\n</div>"
          },
          "metadata": {}
        }
      ],
      "execution_count": null
    },
    {
      "cell_type": "code",
      "source": [
        "genres.isnull().sum()"
      ],
      "metadata": {
        "trusted": true,
        "execution": {
          "iopub.status.busy": "2025-07-14T12:09:48.403197Z",
          "iopub.execute_input": "2025-07-14T12:09:48.403463Z",
          "iopub.status.idle": "2025-07-14T12:09:48.409032Z",
          "shell.execute_reply.started": "2025-07-14T12:09:48.403436Z",
          "shell.execute_reply": "2025-07-14T12:09:48.408337Z"
        },
        "id": "pM-dSLgrSeMY",
        "outputId": "445c441a-133c-49dc-c6b2-18bc7b90103e"
      },
      "outputs": [
        {
          "execution_count": 79,
          "output_type": "execute_result",
          "data": {
            "text/plain": "genre_id     0\n#tracks      0\nparent       0\ntitle        0\ntop_level    0\ndtype: int64"
          },
          "metadata": {}
        }
      ],
      "execution_count": null
    },
    {
      "cell_type": "code",
      "source": [
        "spotify_data=pd.read_csv('/kaggle/input/spotify-final/echonest.csv', index_col=0, header=[0,1])\n",
        "spotify_data"
      ],
      "metadata": {
        "trusted": true,
        "execution": {
          "iopub.status.busy": "2025-07-14T12:09:48.40971Z",
          "iopub.execute_input": "2025-07-14T12:09:48.41009Z",
          "iopub.status.idle": "2025-07-14T12:09:49.04886Z",
          "shell.execute_reply.started": "2025-07-14T12:09:48.410073Z",
          "shell.execute_reply": "2025-07-14T12:09:49.048234Z"
        },
        "id": "zjv21ykzSeMZ",
        "outputId": "ee2840eb-6afc-4ab1-9663-c1dfa85e6605"
      },
      "outputs": [
        {
          "execution_count": 80,
          "output_type": "execute_result",
          "data": {
            "text/plain": "               echonest                                                      \\\n         audio_features audio_features.1 audio_features.2  audio_features.3   \nNaN        acousticness     danceability           energy  instrumentalness   \ntrack_id            NaN              NaN              NaN               NaN   \n2          0.4166752327     0.6758939853     0.6344762684      0.0106280683   \n3          0.3744077685     0.5286430621     0.8174611317      0.0018511032   \n5          0.0435668989     0.7455658702     0.7014699916      0.0006967990   \n...                 ...              ...              ...               ...   \n124857         0.007592         0.790364         0.719288          0.853114   \n124862         0.041498         0.843077         0.536496          0.865151   \n124863         0.000124         0.609686         0.895136          0.846624   \n124864         0.327576         0.574426         0.548327          0.452867   \n124911         0.993606         0.499339         0.050622          0.945677   \n\n                                                                              \\\n         audio_features.4 audio_features.5 audio_features.6 audio_features.7   \nNaN              liveness      speechiness            tempo          valence   \ntrack_id              NaN              NaN              NaN              NaN   \n2            0.1776465712     0.1593100648   165.9220000000     0.5766609880   \n3            0.1058799438     0.4618181276   126.9570000000     0.2692402421   \n5            0.3731433124     0.1245953419   100.2600000000     0.6216612236   \n...                   ...              ...              ...              ...   \n124857           0.720715          0.08255          141.332         0.890461   \n124862           0.547949         0.074001          101.975         0.476845   \n124863           0.632903         0.051517          129.996         0.496667   \n124864           0.075928         0.033388          142.009         0.569274   \n124911           0.095965         0.065189          119.965         0.204652   \n\n                                           ...                        \\\n            metadata           metadata.1  ... temporal_features.214   \nNaN       album_date           album_name  ...            214.000000   \ntrack_id         NaN                  NaN  ...                   NaN   \n2                NaN                  NaN  ...             -1.992303   \n3                NaN                  NaN  ...             -1.582331   \n5                NaN                  NaN  ...             -2.288358   \n...              ...                  ...  ...                   ...   \n124857           NaN                  NaN  ...             -1.721207   \n124862           NaN                  NaN  ...             -0.647897   \n124863           NaN                  NaN  ...             -0.771613   \n124864           NaN                  NaN  ...             -2.054143   \n124911    2009-10-23  Suicide Beauty Girl  ...             -0.215639   \n\n                                                                            \\\n         temporal_features.215 temporal_features.216 temporal_features.217   \nNaN                 215.000000            216.000000            217.000000   \ntrack_id                   NaN                   NaN                   NaN   \n2                     6.805694              0.233070              0.192880   \n3                     8.889308              0.258464              0.220905   \n5                    11.527109              0.256821              0.237820   \n...                        ...                   ...                   ...   \n124857                4.686078              0.213789              0.208800   \n124862                1.282306              0.214586              0.181860   \n124863                1.623510              0.180471              0.128185   \n124864                7.927149              0.250178              0.219205   \n124911               -0.584081              0.603893              0.505940   \n\n                                                                            \\\n         temporal_features.218 temporal_features.219 temporal_features.220   \nNaN                 218.000000             219.00000            220.000000   \ntrack_id                   NaN                   NaN                   NaN   \n2                     0.027455               0.06408              3.676960   \n3                     0.081368               0.06413              6.082770   \n5                     0.060122               0.06014              5.926490   \n...                        ...                   ...                   ...   \n124857                0.007911               0.06395              2.040730   \n124862                0.011247               0.06240              0.922360   \n124863                0.010103               0.06222              2.251160   \n124864                0.014851               0.06390              1.487440   \n124911                0.608585               0.06830             16.559731   \n\n                                                                            \n         temporal_features.221 temporal_features.222 temporal_features.223  \nNaN                  221.00000            222.000000            223.000000  \ntrack_id                   NaN                   NaN                   NaN  \n2                      3.61288             13.316690            262.929749  \n3                      6.01864             16.673548            325.581085  \n5                      5.86635             16.013849            356.755737  \n...                        ...                   ...                   ...  \n124857                 1.97678              8.144532            147.040405  \n124862                 0.85996              1.794739              6.321268  \n124863                 2.18894              5.578341             89.180328  \n124864                 1.42354              2.173092             12.503966  \n124911                16.49143             15.169022            302.946350  \n\n[13131 rows x 249 columns]",
            "text/html": "<div>\n<style scoped>\n    .dataframe tbody tr th:only-of-type {\n        vertical-align: middle;\n    }\n\n    .dataframe tbody tr th {\n        vertical-align: top;\n    }\n\n    .dataframe thead tr th {\n        text-align: left;\n    }\n</style>\n<table border=\"1\" class=\"dataframe\">\n  <thead>\n    <tr>\n      <th></th>\n      <th colspan=\"21\" halign=\"left\">echonest</th>\n    </tr>\n    <tr>\n      <th></th>\n      <th>audio_features</th>\n      <th>audio_features.1</th>\n      <th>audio_features.2</th>\n      <th>audio_features.3</th>\n      <th>audio_features.4</th>\n      <th>audio_features.5</th>\n      <th>audio_features.6</th>\n      <th>audio_features.7</th>\n      <th>metadata</th>\n      <th>metadata.1</th>\n      <th>...</th>\n      <th>temporal_features.214</th>\n      <th>temporal_features.215</th>\n      <th>temporal_features.216</th>\n      <th>temporal_features.217</th>\n      <th>temporal_features.218</th>\n      <th>temporal_features.219</th>\n      <th>temporal_features.220</th>\n      <th>temporal_features.221</th>\n      <th>temporal_features.222</th>\n      <th>temporal_features.223</th>\n    </tr>\n  </thead>\n  <tbody>\n    <tr>\n      <th>NaN</th>\n      <td>acousticness</td>\n      <td>danceability</td>\n      <td>energy</td>\n      <td>instrumentalness</td>\n      <td>liveness</td>\n      <td>speechiness</td>\n      <td>tempo</td>\n      <td>valence</td>\n      <td>album_date</td>\n      <td>album_name</td>\n      <td>...</td>\n      <td>214.000000</td>\n      <td>215.000000</td>\n      <td>216.000000</td>\n      <td>217.000000</td>\n      <td>218.000000</td>\n      <td>219.00000</td>\n      <td>220.000000</td>\n      <td>221.00000</td>\n      <td>222.000000</td>\n      <td>223.000000</td>\n    </tr>\n    <tr>\n      <th>track_id</th>\n      <td>NaN</td>\n      <td>NaN</td>\n      <td>NaN</td>\n      <td>NaN</td>\n      <td>NaN</td>\n      <td>NaN</td>\n      <td>NaN</td>\n      <td>NaN</td>\n      <td>NaN</td>\n      <td>NaN</td>\n      <td>...</td>\n      <td>NaN</td>\n      <td>NaN</td>\n      <td>NaN</td>\n      <td>NaN</td>\n      <td>NaN</td>\n      <td>NaN</td>\n      <td>NaN</td>\n      <td>NaN</td>\n      <td>NaN</td>\n      <td>NaN</td>\n    </tr>\n    <tr>\n      <th>2</th>\n      <td>0.4166752327</td>\n      <td>0.6758939853</td>\n      <td>0.6344762684</td>\n      <td>0.0106280683</td>\n      <td>0.1776465712</td>\n      <td>0.1593100648</td>\n      <td>165.9220000000</td>\n      <td>0.5766609880</td>\n      <td>NaN</td>\n      <td>NaN</td>\n      <td>...</td>\n      <td>-1.992303</td>\n      <td>6.805694</td>\n      <td>0.233070</td>\n      <td>0.192880</td>\n      <td>0.027455</td>\n      <td>0.06408</td>\n      <td>3.676960</td>\n      <td>3.61288</td>\n      <td>13.316690</td>\n      <td>262.929749</td>\n    </tr>\n    <tr>\n      <th>3</th>\n      <td>0.3744077685</td>\n      <td>0.5286430621</td>\n      <td>0.8174611317</td>\n      <td>0.0018511032</td>\n      <td>0.1058799438</td>\n      <td>0.4618181276</td>\n      <td>126.9570000000</td>\n      <td>0.2692402421</td>\n      <td>NaN</td>\n      <td>NaN</td>\n      <td>...</td>\n      <td>-1.582331</td>\n      <td>8.889308</td>\n      <td>0.258464</td>\n      <td>0.220905</td>\n      <td>0.081368</td>\n      <td>0.06413</td>\n      <td>6.082770</td>\n      <td>6.01864</td>\n      <td>16.673548</td>\n      <td>325.581085</td>\n    </tr>\n    <tr>\n      <th>5</th>\n      <td>0.0435668989</td>\n      <td>0.7455658702</td>\n      <td>0.7014699916</td>\n      <td>0.0006967990</td>\n      <td>0.3731433124</td>\n      <td>0.1245953419</td>\n      <td>100.2600000000</td>\n      <td>0.6216612236</td>\n      <td>NaN</td>\n      <td>NaN</td>\n      <td>...</td>\n      <td>-2.288358</td>\n      <td>11.527109</td>\n      <td>0.256821</td>\n      <td>0.237820</td>\n      <td>0.060122</td>\n      <td>0.06014</td>\n      <td>5.926490</td>\n      <td>5.86635</td>\n      <td>16.013849</td>\n      <td>356.755737</td>\n    </tr>\n    <tr>\n      <th>...</th>\n      <td>...</td>\n      <td>...</td>\n      <td>...</td>\n      <td>...</td>\n      <td>...</td>\n      <td>...</td>\n      <td>...</td>\n      <td>...</td>\n      <td>...</td>\n      <td>...</td>\n      <td>...</td>\n      <td>...</td>\n      <td>...</td>\n      <td>...</td>\n      <td>...</td>\n      <td>...</td>\n      <td>...</td>\n      <td>...</td>\n      <td>...</td>\n      <td>...</td>\n      <td>...</td>\n    </tr>\n    <tr>\n      <th>124857</th>\n      <td>0.007592</td>\n      <td>0.790364</td>\n      <td>0.719288</td>\n      <td>0.853114</td>\n      <td>0.720715</td>\n      <td>0.08255</td>\n      <td>141.332</td>\n      <td>0.890461</td>\n      <td>NaN</td>\n      <td>NaN</td>\n      <td>...</td>\n      <td>-1.721207</td>\n      <td>4.686078</td>\n      <td>0.213789</td>\n      <td>0.208800</td>\n      <td>0.007911</td>\n      <td>0.06395</td>\n      <td>2.040730</td>\n      <td>1.97678</td>\n      <td>8.144532</td>\n      <td>147.040405</td>\n    </tr>\n    <tr>\n      <th>124862</th>\n      <td>0.041498</td>\n      <td>0.843077</td>\n      <td>0.536496</td>\n      <td>0.865151</td>\n      <td>0.547949</td>\n      <td>0.074001</td>\n      <td>101.975</td>\n      <td>0.476845</td>\n      <td>NaN</td>\n      <td>NaN</td>\n      <td>...</td>\n      <td>-0.647897</td>\n      <td>1.282306</td>\n      <td>0.214586</td>\n      <td>0.181860</td>\n      <td>0.011247</td>\n      <td>0.06240</td>\n      <td>0.922360</td>\n      <td>0.85996</td>\n      <td>1.794739</td>\n      <td>6.321268</td>\n    </tr>\n    <tr>\n      <th>124863</th>\n      <td>0.000124</td>\n      <td>0.609686</td>\n      <td>0.895136</td>\n      <td>0.846624</td>\n      <td>0.632903</td>\n      <td>0.051517</td>\n      <td>129.996</td>\n      <td>0.496667</td>\n      <td>NaN</td>\n      <td>NaN</td>\n      <td>...</td>\n      <td>-0.771613</td>\n      <td>1.623510</td>\n      <td>0.180471</td>\n      <td>0.128185</td>\n      <td>0.010103</td>\n      <td>0.06222</td>\n      <td>2.251160</td>\n      <td>2.18894</td>\n      <td>5.578341</td>\n      <td>89.180328</td>\n    </tr>\n    <tr>\n      <th>124864</th>\n      <td>0.327576</td>\n      <td>0.574426</td>\n      <td>0.548327</td>\n      <td>0.452867</td>\n      <td>0.075928</td>\n      <td>0.033388</td>\n      <td>142.009</td>\n      <td>0.569274</td>\n      <td>NaN</td>\n      <td>NaN</td>\n      <td>...</td>\n      <td>-2.054143</td>\n      <td>7.927149</td>\n      <td>0.250178</td>\n      <td>0.219205</td>\n      <td>0.014851</td>\n      <td>0.06390</td>\n      <td>1.487440</td>\n      <td>1.42354</td>\n      <td>2.173092</td>\n      <td>12.503966</td>\n    </tr>\n    <tr>\n      <th>124911</th>\n      <td>0.993606</td>\n      <td>0.499339</td>\n      <td>0.050622</td>\n      <td>0.945677</td>\n      <td>0.095965</td>\n      <td>0.065189</td>\n      <td>119.965</td>\n      <td>0.204652</td>\n      <td>2009-10-23</td>\n      <td>Suicide Beauty Girl</td>\n      <td>...</td>\n      <td>-0.215639</td>\n      <td>-0.584081</td>\n      <td>0.603893</td>\n      <td>0.505940</td>\n      <td>0.608585</td>\n      <td>0.06830</td>\n      <td>16.559731</td>\n      <td>16.49143</td>\n      <td>15.169022</td>\n      <td>302.946350</td>\n    </tr>\n  </tbody>\n</table>\n<p>13131 rows × 249 columns</p>\n</div>"
          },
          "metadata": {}
        }
      ],
      "execution_count": null
    },
    {
      "cell_type": "code",
      "source": [
        "spotify_data.info()"
      ],
      "metadata": {
        "trusted": true,
        "execution": {
          "iopub.status.busy": "2025-07-14T12:09:49.049559Z",
          "iopub.execute_input": "2025-07-14T12:09:49.049734Z",
          "iopub.status.idle": "2025-07-14T12:09:49.069662Z",
          "shell.execute_reply.started": "2025-07-14T12:09:49.049721Z",
          "shell.execute_reply": "2025-07-14T12:09:49.068954Z"
        },
        "id": "6uhmVejqSeMa",
        "outputId": "aa68eac7-ad29-477a-8ed8-e67b8ccc9d93"
      },
      "outputs": [
        {
          "name": "stdout",
          "text": "<class 'pandas.core.frame.DataFrame'>\nIndex: 13131 entries, nan to 124911\nColumns: 249 entries, ('echonest', 'audio_features') to ('echonest', 'temporal_features.223')\ndtypes: float64(224), object(25)\nmemory usage: 25.0+ MB\n",
          "output_type": "stream"
        }
      ],
      "execution_count": null
    },
    {
      "cell_type": "code",
      "source": [
        "spotify_data.columns"
      ],
      "metadata": {
        "trusted": true,
        "execution": {
          "iopub.status.busy": "2025-07-14T12:09:49.070565Z",
          "iopub.execute_input": "2025-07-14T12:09:49.070828Z",
          "iopub.status.idle": "2025-07-14T12:09:49.087392Z",
          "shell.execute_reply.started": "2025-07-14T12:09:49.070807Z",
          "shell.execute_reply": "2025-07-14T12:09:49.086806Z"
        },
        "id": "9VFFwzBPSeMb",
        "outputId": "64a9913e-c77a-4719-df57-38cfbc67c948"
      },
      "outputs": [
        {
          "execution_count": 82,
          "output_type": "execute_result",
          "data": {
            "text/plain": "MultiIndex([('echonest',        'audio_features'),\n            ('echonest',      'audio_features.1'),\n            ('echonest',      'audio_features.2'),\n            ('echonest',      'audio_features.3'),\n            ('echonest',      'audio_features.4'),\n            ('echonest',      'audio_features.5'),\n            ('echonest',      'audio_features.6'),\n            ('echonest',      'audio_features.7'),\n            ('echonest',              'metadata'),\n            ('echonest',            'metadata.1'),\n            ...\n            ('echonest', 'temporal_features.214'),\n            ('echonest', 'temporal_features.215'),\n            ('echonest', 'temporal_features.216'),\n            ('echonest', 'temporal_features.217'),\n            ('echonest', 'temporal_features.218'),\n            ('echonest', 'temporal_features.219'),\n            ('echonest', 'temporal_features.220'),\n            ('echonest', 'temporal_features.221'),\n            ('echonest', 'temporal_features.222'),\n            ('echonest', 'temporal_features.223')],\n           length=249)"
          },
          "metadata": {}
        }
      ],
      "execution_count": null
    },
    {
      "cell_type": "code",
      "source": [
        "spotify_data.isnull().sum()"
      ],
      "metadata": {
        "trusted": true,
        "execution": {
          "iopub.status.busy": "2025-07-14T12:09:49.087961Z",
          "iopub.execute_input": "2025-07-14T12:09:49.088191Z",
          "iopub.status.idle": "2025-07-14T12:09:49.124598Z",
          "shell.execute_reply.started": "2025-07-14T12:09:49.088176Z",
          "shell.execute_reply": "2025-07-14T12:09:49.123957Z"
        },
        "id": "2VKKTTL-SeMb",
        "outputId": "6ffd3da2-8ec2-485c-ff3c-ed0557df9fb1"
      },
      "outputs": [
        {
          "execution_count": 83,
          "output_type": "execute_result",
          "data": {
            "text/plain": "echonest  audio_features           1\n          audio_features.1         1\n          audio_features.2         1\n          audio_features.3         1\n          audio_features.4         1\n                                  ..\n          temporal_features.219    1\n          temporal_features.220    1\n          temporal_features.221    1\n          temporal_features.222    1\n          temporal_features.223    1\nLength: 249, dtype: int64"
          },
          "metadata": {}
        }
      ],
      "execution_count": null
    },
    {
      "cell_type": "code",
      "source": [
        "sum(tracks[('track','genres_all')]=='[]')"
      ],
      "metadata": {
        "trusted": true,
        "execution": {
          "iopub.status.busy": "2025-07-14T12:09:49.12538Z",
          "iopub.execute_input": "2025-07-14T12:09:49.12562Z",
          "iopub.status.idle": "2025-07-14T12:09:49.143355Z",
          "shell.execute_reply.started": "2025-07-14T12:09:49.125595Z",
          "shell.execute_reply": "2025-07-14T12:09:49.142678Z"
        },
        "id": "Xyk96ZzUSeMc",
        "outputId": "da6a1b6c-804e-4ae4-e4c5-7261697766cb"
      },
      "outputs": [
        {
          "execution_count": 84,
          "output_type": "execute_result",
          "data": {
            "text/plain": "2231"
          },
          "metadata": {}
        }
      ],
      "execution_count": null
    },
    {
      "cell_type": "code",
      "source": [
        "tracks=tracks[[('album','date_created'), ('album','date_released'), ('album', 'title'), ('album', 'id'),\n",
        "                 ('artist', 'id'), ('artist', 'name'),\n",
        "                 ('track', 'genre_top'), ('track', 'genres_all'),('track', 'title'), ('track','duration')]]"
      ],
      "metadata": {
        "trusted": true,
        "execution": {
          "iopub.status.busy": "2025-07-14T12:09:49.145484Z",
          "iopub.execute_input": "2025-07-14T12:09:49.14609Z",
          "iopub.status.idle": "2025-07-14T12:09:49.162653Z",
          "shell.execute_reply.started": "2025-07-14T12:09:49.146068Z",
          "shell.execute_reply": "2025-07-14T12:09:49.162113Z"
        },
        "id": "4N2_FnObSeMc"
      },
      "outputs": [],
      "execution_count": null
    },
    {
      "cell_type": "code",
      "source": [
        "spotify_data = spotify_data[[('echonest','audio_features'), ('echonest','audio_features.1'), ('echonest','audio_features.2'), ('echonest','audio_features.3'), ('echonest','audio_features.4'), ('echonest','audio_features.5'), ('echonest','audio_features.6'), ('echonest','audio_features.7')]]\n",
        "spotify_data.columns"
      ],
      "metadata": {
        "trusted": true,
        "execution": {
          "iopub.status.busy": "2025-07-14T12:09:49.163299Z",
          "iopub.execute_input": "2025-07-14T12:09:49.163505Z",
          "iopub.status.idle": "2025-07-14T12:09:49.172835Z",
          "shell.execute_reply.started": "2025-07-14T12:09:49.163482Z",
          "shell.execute_reply": "2025-07-14T12:09:49.172154Z"
        },
        "id": "8wO2TpCkSeMd",
        "outputId": "d108fc14-06a0-4a44-bf3d-36e2cb1213d5"
      },
      "outputs": [
        {
          "execution_count": 86,
          "output_type": "execute_result",
          "data": {
            "text/plain": "MultiIndex([('echonest',   'audio_features'),\n            ('echonest', 'audio_features.1'),\n            ('echonest', 'audio_features.2'),\n            ('echonest', 'audio_features.3'),\n            ('echonest', 'audio_features.4'),\n            ('echonest', 'audio_features.5'),\n            ('echonest', 'audio_features.6'),\n            ('echonest', 'audio_features.7')],\n           )"
          },
          "metadata": {}
        }
      ],
      "execution_count": null
    },
    {
      "cell_type": "code",
      "source": [
        "tracks.columns=tracks.columns.droplevel()\n",
        "tracks.columns = ['date_created', 'date_released', 'album', 'album_id', 'artist_id', 'artist', 'genres_top', 'genres_all', 'track', 'duration']\n",
        "tracks.columns"
      ],
      "metadata": {
        "trusted": true,
        "execution": {
          "iopub.status.busy": "2025-07-14T12:09:49.173552Z",
          "iopub.execute_input": "2025-07-14T12:09:49.173755Z",
          "iopub.status.idle": "2025-07-14T12:09:49.187944Z",
          "shell.execute_reply.started": "2025-07-14T12:09:49.173733Z",
          "shell.execute_reply": "2025-07-14T12:09:49.187447Z"
        },
        "id": "K9SUdNiRSeMd",
        "outputId": "c98f1c25-9582-452a-c322-77ef0f88ae22"
      },
      "outputs": [
        {
          "execution_count": 87,
          "output_type": "execute_result",
          "data": {
            "text/plain": "Index(['date_created', 'date_released', 'album', 'album_id', 'artist_id',\n       'artist', 'genres_top', 'genres_all', 'track', 'duration'],\n      dtype='object')"
          },
          "metadata": {}
        }
      ],
      "execution_count": null
    },
    {
      "cell_type": "code",
      "source": [
        "tracks"
      ],
      "metadata": {
        "trusted": true,
        "execution": {
          "iopub.status.busy": "2025-07-14T12:09:49.18861Z",
          "iopub.execute_input": "2025-07-14T12:09:49.188833Z",
          "iopub.status.idle": "2025-07-14T12:09:49.20763Z",
          "shell.execute_reply.started": "2025-07-14T12:09:49.188813Z",
          "shell.execute_reply": "2025-07-14T12:09:49.206923Z"
        },
        "id": "NmtqiCwbSeMe",
        "outputId": "0e4b4d63-5c29-4c84-d5fb-d34fbbee85e8"
      },
      "outputs": [
        {
          "execution_count": 88,
          "output_type": "execute_result",
          "data": {
            "text/plain": "                 date_created        date_released  \\\ntrack_id                                             \n2         2008-11-26 01:44:45  2009-01-05 00:00:00   \n3         2008-11-26 01:44:45  2009-01-05 00:00:00   \n5         2008-11-26 01:44:45  2009-01-05 00:00:00   \n10        2008-11-26 01:45:08  2008-02-06 00:00:00   \n20        2008-11-26 01:45:05  2009-01-06 00:00:00   \n...                       ...                  ...   \n155316    2017-03-30 15:20:35  2017-02-17 00:00:00   \n155317    2017-03-30 15:20:35  2017-02-17 00:00:00   \n155318    2017-03-30 15:20:35  2017-02-17 00:00:00   \n155319    2017-03-30 15:20:35  2017-02-17 00:00:00   \n155320    2017-03-26 16:22:18  2017-03-26 00:00:00   \n\n                                  album  album_id  artist_id  \\\ntrack_id                                                       \n2                  AWOL - A Way Of Life         1          1   \n3                  AWOL - A Way Of Life         1          1   \n5                  AWOL - A Way Of Life         1          1   \n10                    Constant Hitmaker         6          6   \n20                                Niris         4          4   \n...                                 ...       ...        ...   \n155316    Live at Monty Hall, 2/17/2017     22940      24357   \n155317    Live at Monty Hall, 2/17/2017     22940      24357   \n155318    Live at Monty Hall, 2/17/2017     22940      24357   \n155319    Live at Monty Hall, 2/17/2017     22940      24357   \n155320        What I Tell Myself Vol. 2     22906      21615   \n\n                    artist genres_top         genres_all  \\\ntrack_id                                                   \n2                     AWOL    Hip-Hop               [21]   \n3                     AWOL    Hip-Hop               [21]   \n5                     AWOL    Hip-Hop               [21]   \n10               Kurt Vile        Pop               [10]   \n20              Nicky Cook        NaN  [17, 10, 76, 103]   \n...                    ...        ...                ...   \n155316             Spowder       Rock           [25, 12]   \n155317             Spowder       Rock           [25, 12]   \n155318             Spowder       Rock           [25, 12]   \n155319             Spowder       Rock           [25, 12]   \n155320    Forget the Whale        NaN   [169, 10, 12, 9]   \n\n                                              track  duration  \ntrack_id                                                       \n2                                              Food       168  \n3                                      Electric Ave       237  \n5                                        This World       206  \n10                                          Freeway       161  \n20                                  Spiritual Level       311  \n...                                             ...       ...  \n155316                                    The Auger       162  \n155317                              Let's Skin Ruby       217  \n155318           My House Smells Like Kim Deal/Pulp       404  \n155319                      The Man With Two Mouths       146  \n155320    Another Trick Up My Sleeve (Instrumental)       198  \n\n[106574 rows x 10 columns]",
            "text/html": "<div>\n<style scoped>\n    .dataframe tbody tr th:only-of-type {\n        vertical-align: middle;\n    }\n\n    .dataframe tbody tr th {\n        vertical-align: top;\n    }\n\n    .dataframe thead th {\n        text-align: right;\n    }\n</style>\n<table border=\"1\" class=\"dataframe\">\n  <thead>\n    <tr style=\"text-align: right;\">\n      <th></th>\n      <th>date_created</th>\n      <th>date_released</th>\n      <th>album</th>\n      <th>album_id</th>\n      <th>artist_id</th>\n      <th>artist</th>\n      <th>genres_top</th>\n      <th>genres_all</th>\n      <th>track</th>\n      <th>duration</th>\n    </tr>\n    <tr>\n      <th>track_id</th>\n      <th></th>\n      <th></th>\n      <th></th>\n      <th></th>\n      <th></th>\n      <th></th>\n      <th></th>\n      <th></th>\n      <th></th>\n      <th></th>\n    </tr>\n  </thead>\n  <tbody>\n    <tr>\n      <th>2</th>\n      <td>2008-11-26 01:44:45</td>\n      <td>2009-01-05 00:00:00</td>\n      <td>AWOL - A Way Of Life</td>\n      <td>1</td>\n      <td>1</td>\n      <td>AWOL</td>\n      <td>Hip-Hop</td>\n      <td>[21]</td>\n      <td>Food</td>\n      <td>168</td>\n    </tr>\n    <tr>\n      <th>3</th>\n      <td>2008-11-26 01:44:45</td>\n      <td>2009-01-05 00:00:00</td>\n      <td>AWOL - A Way Of Life</td>\n      <td>1</td>\n      <td>1</td>\n      <td>AWOL</td>\n      <td>Hip-Hop</td>\n      <td>[21]</td>\n      <td>Electric Ave</td>\n      <td>237</td>\n    </tr>\n    <tr>\n      <th>5</th>\n      <td>2008-11-26 01:44:45</td>\n      <td>2009-01-05 00:00:00</td>\n      <td>AWOL - A Way Of Life</td>\n      <td>1</td>\n      <td>1</td>\n      <td>AWOL</td>\n      <td>Hip-Hop</td>\n      <td>[21]</td>\n      <td>This World</td>\n      <td>206</td>\n    </tr>\n    <tr>\n      <th>10</th>\n      <td>2008-11-26 01:45:08</td>\n      <td>2008-02-06 00:00:00</td>\n      <td>Constant Hitmaker</td>\n      <td>6</td>\n      <td>6</td>\n      <td>Kurt Vile</td>\n      <td>Pop</td>\n      <td>[10]</td>\n      <td>Freeway</td>\n      <td>161</td>\n    </tr>\n    <tr>\n      <th>20</th>\n      <td>2008-11-26 01:45:05</td>\n      <td>2009-01-06 00:00:00</td>\n      <td>Niris</td>\n      <td>4</td>\n      <td>4</td>\n      <td>Nicky Cook</td>\n      <td>NaN</td>\n      <td>[17, 10, 76, 103]</td>\n      <td>Spiritual Level</td>\n      <td>311</td>\n    </tr>\n    <tr>\n      <th>...</th>\n      <td>...</td>\n      <td>...</td>\n      <td>...</td>\n      <td>...</td>\n      <td>...</td>\n      <td>...</td>\n      <td>...</td>\n      <td>...</td>\n      <td>...</td>\n      <td>...</td>\n    </tr>\n    <tr>\n      <th>155316</th>\n      <td>2017-03-30 15:20:35</td>\n      <td>2017-02-17 00:00:00</td>\n      <td>Live at Monty Hall, 2/17/2017</td>\n      <td>22940</td>\n      <td>24357</td>\n      <td>Spowder</td>\n      <td>Rock</td>\n      <td>[25, 12]</td>\n      <td>The Auger</td>\n      <td>162</td>\n    </tr>\n    <tr>\n      <th>155317</th>\n      <td>2017-03-30 15:20:35</td>\n      <td>2017-02-17 00:00:00</td>\n      <td>Live at Monty Hall, 2/17/2017</td>\n      <td>22940</td>\n      <td>24357</td>\n      <td>Spowder</td>\n      <td>Rock</td>\n      <td>[25, 12]</td>\n      <td>Let's Skin Ruby</td>\n      <td>217</td>\n    </tr>\n    <tr>\n      <th>155318</th>\n      <td>2017-03-30 15:20:35</td>\n      <td>2017-02-17 00:00:00</td>\n      <td>Live at Monty Hall, 2/17/2017</td>\n      <td>22940</td>\n      <td>24357</td>\n      <td>Spowder</td>\n      <td>Rock</td>\n      <td>[25, 12]</td>\n      <td>My House Smells Like Kim Deal/Pulp</td>\n      <td>404</td>\n    </tr>\n    <tr>\n      <th>155319</th>\n      <td>2017-03-30 15:20:35</td>\n      <td>2017-02-17 00:00:00</td>\n      <td>Live at Monty Hall, 2/17/2017</td>\n      <td>22940</td>\n      <td>24357</td>\n      <td>Spowder</td>\n      <td>Rock</td>\n      <td>[25, 12]</td>\n      <td>The Man With Two Mouths</td>\n      <td>146</td>\n    </tr>\n    <tr>\n      <th>155320</th>\n      <td>2017-03-26 16:22:18</td>\n      <td>2017-03-26 00:00:00</td>\n      <td>What I Tell Myself Vol. 2</td>\n      <td>22906</td>\n      <td>21615</td>\n      <td>Forget the Whale</td>\n      <td>NaN</td>\n      <td>[169, 10, 12, 9]</td>\n      <td>Another Trick Up My Sleeve (Instrumental)</td>\n      <td>198</td>\n    </tr>\n  </tbody>\n</table>\n<p>106574 rows × 10 columns</p>\n</div>"
          },
          "metadata": {}
        }
      ],
      "execution_count": null
    },
    {
      "cell_type": "markdown",
      "source": [
        "\n",
        "****#This block of code cleans and prepares a Spotify dataset by first removing one level from a multi-index column using droplevel(), then renaming the columns with the values from the first row (which likely contains actual column names). It drops that first row afterward to avoid redundancy, and finally sets the index name to 'track_id' for clarity and better identification of each track. The cleaned DataFrame is now ready for analysis with properly labeled columns and rows.****\n"
      ],
      "metadata": {
        "id": "kLGsmxFfSeMe"
      }
    },
    {
      "cell_type": "code",
      "source": [
        "\n",
        "spotify_data.columns=spotify_data.columns.droplevel()\n",
        "spotify_data.rename(columns=spotify_data.iloc[0],inplace=True)\n",
        "spotify_data.drop(spotify_data.index[0],inplace=True)\n",
        "spotify_data.index.name='track_id'\n",
        "spotify_data"
      ],
      "metadata": {
        "trusted": true,
        "execution": {
          "iopub.status.busy": "2025-07-14T12:09:49.208371Z",
          "iopub.execute_input": "2025-07-14T12:09:49.208578Z",
          "iopub.status.idle": "2025-07-14T12:09:49.229449Z",
          "shell.execute_reply.started": "2025-07-14T12:09:49.208556Z",
          "shell.execute_reply": "2025-07-14T12:09:49.228915Z"
        },
        "id": "5d0Syah0SeMh",
        "outputId": "650af27c-73da-4d6a-f9af-b56f9d025dfe"
      },
      "outputs": [
        {
          "execution_count": 89,
          "output_type": "execute_result",
          "data": {
            "text/plain": "          acousticness  danceability        energy instrumentalness  \\\ntrack_id                                                              \ntrack_id           NaN           NaN           NaN              NaN   \n2         0.4166752327  0.6758939853  0.6344762684     0.0106280683   \n3         0.3744077685  0.5286430621  0.8174611317     0.0018511032   \n5         0.0435668989  0.7455658702  0.7014699916     0.0006967990   \n10        0.9516699648  0.6581786543  0.9245251615     0.9654270154   \n...                ...           ...           ...              ...   \n124857        0.007592      0.790364      0.719288         0.853114   \n124862        0.041498      0.843077      0.536496         0.865151   \n124863        0.000124      0.609686      0.895136         0.846624   \n124864        0.327576      0.574426      0.548327         0.452867   \n124911        0.993606      0.499339      0.050622         0.945677   \n\n              liveness   speechiness           tempo       valence  \ntrack_id                                                            \ntrack_id           NaN           NaN             NaN           NaN  \n2         0.1776465712  0.1593100648  165.9220000000  0.5766609880  \n3         0.1058799438  0.4618181276  126.9570000000  0.2692402421  \n5         0.3731433124  0.1245953419  100.2600000000  0.6216612236  \n10        0.1154738842  0.0329852191  111.5620000000  0.9635898919  \n...                ...           ...             ...           ...  \n124857        0.720715       0.08255         141.332      0.890461  \n124862        0.547949      0.074001         101.975      0.476845  \n124863        0.632903      0.051517         129.996      0.496667  \n124864        0.075928      0.033388         142.009      0.569274  \n124911        0.095965      0.065189         119.965      0.204652  \n\n[13130 rows x 8 columns]",
            "text/html": "<div>\n<style scoped>\n    .dataframe tbody tr th:only-of-type {\n        vertical-align: middle;\n    }\n\n    .dataframe tbody tr th {\n        vertical-align: top;\n    }\n\n    .dataframe thead th {\n        text-align: right;\n    }\n</style>\n<table border=\"1\" class=\"dataframe\">\n  <thead>\n    <tr style=\"text-align: right;\">\n      <th></th>\n      <th>acousticness</th>\n      <th>danceability</th>\n      <th>energy</th>\n      <th>instrumentalness</th>\n      <th>liveness</th>\n      <th>speechiness</th>\n      <th>tempo</th>\n      <th>valence</th>\n    </tr>\n    <tr>\n      <th>track_id</th>\n      <th></th>\n      <th></th>\n      <th></th>\n      <th></th>\n      <th></th>\n      <th></th>\n      <th></th>\n      <th></th>\n    </tr>\n  </thead>\n  <tbody>\n    <tr>\n      <th>track_id</th>\n      <td>NaN</td>\n      <td>NaN</td>\n      <td>NaN</td>\n      <td>NaN</td>\n      <td>NaN</td>\n      <td>NaN</td>\n      <td>NaN</td>\n      <td>NaN</td>\n    </tr>\n    <tr>\n      <th>2</th>\n      <td>0.4166752327</td>\n      <td>0.6758939853</td>\n      <td>0.6344762684</td>\n      <td>0.0106280683</td>\n      <td>0.1776465712</td>\n      <td>0.1593100648</td>\n      <td>165.9220000000</td>\n      <td>0.5766609880</td>\n    </tr>\n    <tr>\n      <th>3</th>\n      <td>0.3744077685</td>\n      <td>0.5286430621</td>\n      <td>0.8174611317</td>\n      <td>0.0018511032</td>\n      <td>0.1058799438</td>\n      <td>0.4618181276</td>\n      <td>126.9570000000</td>\n      <td>0.2692402421</td>\n    </tr>\n    <tr>\n      <th>5</th>\n      <td>0.0435668989</td>\n      <td>0.7455658702</td>\n      <td>0.7014699916</td>\n      <td>0.0006967990</td>\n      <td>0.3731433124</td>\n      <td>0.1245953419</td>\n      <td>100.2600000000</td>\n      <td>0.6216612236</td>\n    </tr>\n    <tr>\n      <th>10</th>\n      <td>0.9516699648</td>\n      <td>0.6581786543</td>\n      <td>0.9245251615</td>\n      <td>0.9654270154</td>\n      <td>0.1154738842</td>\n      <td>0.0329852191</td>\n      <td>111.5620000000</td>\n      <td>0.9635898919</td>\n    </tr>\n    <tr>\n      <th>...</th>\n      <td>...</td>\n      <td>...</td>\n      <td>...</td>\n      <td>...</td>\n      <td>...</td>\n      <td>...</td>\n      <td>...</td>\n      <td>...</td>\n    </tr>\n    <tr>\n      <th>124857</th>\n      <td>0.007592</td>\n      <td>0.790364</td>\n      <td>0.719288</td>\n      <td>0.853114</td>\n      <td>0.720715</td>\n      <td>0.08255</td>\n      <td>141.332</td>\n      <td>0.890461</td>\n    </tr>\n    <tr>\n      <th>124862</th>\n      <td>0.041498</td>\n      <td>0.843077</td>\n      <td>0.536496</td>\n      <td>0.865151</td>\n      <td>0.547949</td>\n      <td>0.074001</td>\n      <td>101.975</td>\n      <td>0.476845</td>\n    </tr>\n    <tr>\n      <th>124863</th>\n      <td>0.000124</td>\n      <td>0.609686</td>\n      <td>0.895136</td>\n      <td>0.846624</td>\n      <td>0.632903</td>\n      <td>0.051517</td>\n      <td>129.996</td>\n      <td>0.496667</td>\n    </tr>\n    <tr>\n      <th>124864</th>\n      <td>0.327576</td>\n      <td>0.574426</td>\n      <td>0.548327</td>\n      <td>0.452867</td>\n      <td>0.075928</td>\n      <td>0.033388</td>\n      <td>142.009</td>\n      <td>0.569274</td>\n    </tr>\n    <tr>\n      <th>124911</th>\n      <td>0.993606</td>\n      <td>0.499339</td>\n      <td>0.050622</td>\n      <td>0.945677</td>\n      <td>0.095965</td>\n      <td>0.065189</td>\n      <td>119.965</td>\n      <td>0.204652</td>\n    </tr>\n  </tbody>\n</table>\n<p>13130 rows × 8 columns</p>\n</div>"
          },
          "metadata": {}
        }
      ],
      "execution_count": null
    },
    {
      "cell_type": "code",
      "source": [
        "new_df = spotify_data.drop(spotify_data.index[0])\n"
      ],
      "metadata": {
        "trusted": true,
        "execution": {
          "iopub.status.busy": "2025-07-14T12:09:49.229942Z",
          "iopub.execute_input": "2025-07-14T12:09:49.230134Z",
          "iopub.status.idle": "2025-07-14T12:09:49.244252Z",
          "shell.execute_reply.started": "2025-07-14T12:09:49.230121Z",
          "shell.execute_reply": "2025-07-14T12:09:49.243761Z"
        },
        "id": "yx3UYUi0SeMi"
      },
      "outputs": [],
      "execution_count": null
    },
    {
      "cell_type": "code",
      "source": [
        "new_df"
      ],
      "metadata": {
        "trusted": true,
        "execution": {
          "iopub.status.busy": "2025-07-14T12:09:49.244905Z",
          "iopub.execute_input": "2025-07-14T12:09:49.245599Z",
          "iopub.status.idle": "2025-07-14T12:09:49.262651Z",
          "shell.execute_reply.started": "2025-07-14T12:09:49.24558Z",
          "shell.execute_reply": "2025-07-14T12:09:49.261943Z"
        },
        "id": "ZXbsvC3xSeMi",
        "outputId": "e6bd21db-14fb-4f47-d05e-0bef84ed420c"
      },
      "outputs": [
        {
          "execution_count": 91,
          "output_type": "execute_result",
          "data": {
            "text/plain": "          acousticness  danceability        energy instrumentalness  \\\ntrack_id                                                              \n2         0.4166752327  0.6758939853  0.6344762684     0.0106280683   \n3         0.3744077685  0.5286430621  0.8174611317     0.0018511032   \n5         0.0435668989  0.7455658702  0.7014699916     0.0006967990   \n10        0.9516699648  0.6581786543  0.9245251615     0.9654270154   \n134       0.4522173071  0.5132380502  0.5604099311     0.0194426943   \n...                ...           ...           ...              ...   \n124857        0.007592      0.790364      0.719288         0.853114   \n124862        0.041498      0.843077      0.536496         0.865151   \n124863        0.000124      0.609686      0.895136         0.846624   \n124864        0.327576      0.574426      0.548327         0.452867   \n124911        0.993606      0.499339      0.050622         0.945677   \n\n              liveness   speechiness           tempo       valence  \ntrack_id                                                            \n2         0.1776465712  0.1593100648  165.9220000000  0.5766609880  \n3         0.1058799438  0.4618181276  126.9570000000  0.2692402421  \n5         0.3731433124  0.1245953419  100.2600000000  0.6216612236  \n10        0.1154738842  0.0329852191  111.5620000000  0.9635898919  \n134       0.0965666940  0.5255193792  114.2900000000  0.8940722715  \n...                ...           ...             ...           ...  \n124857        0.720715       0.08255         141.332      0.890461  \n124862        0.547949      0.074001         101.975      0.476845  \n124863        0.632903      0.051517         129.996      0.496667  \n124864        0.075928      0.033388         142.009      0.569274  \n124911        0.095965      0.065189         119.965      0.204652  \n\n[13129 rows x 8 columns]",
            "text/html": "<div>\n<style scoped>\n    .dataframe tbody tr th:only-of-type {\n        vertical-align: middle;\n    }\n\n    .dataframe tbody tr th {\n        vertical-align: top;\n    }\n\n    .dataframe thead th {\n        text-align: right;\n    }\n</style>\n<table border=\"1\" class=\"dataframe\">\n  <thead>\n    <tr style=\"text-align: right;\">\n      <th></th>\n      <th>acousticness</th>\n      <th>danceability</th>\n      <th>energy</th>\n      <th>instrumentalness</th>\n      <th>liveness</th>\n      <th>speechiness</th>\n      <th>tempo</th>\n      <th>valence</th>\n    </tr>\n    <tr>\n      <th>track_id</th>\n      <th></th>\n      <th></th>\n      <th></th>\n      <th></th>\n      <th></th>\n      <th></th>\n      <th></th>\n      <th></th>\n    </tr>\n  </thead>\n  <tbody>\n    <tr>\n      <th>2</th>\n      <td>0.4166752327</td>\n      <td>0.6758939853</td>\n      <td>0.6344762684</td>\n      <td>0.0106280683</td>\n      <td>0.1776465712</td>\n      <td>0.1593100648</td>\n      <td>165.9220000000</td>\n      <td>0.5766609880</td>\n    </tr>\n    <tr>\n      <th>3</th>\n      <td>0.3744077685</td>\n      <td>0.5286430621</td>\n      <td>0.8174611317</td>\n      <td>0.0018511032</td>\n      <td>0.1058799438</td>\n      <td>0.4618181276</td>\n      <td>126.9570000000</td>\n      <td>0.2692402421</td>\n    </tr>\n    <tr>\n      <th>5</th>\n      <td>0.0435668989</td>\n      <td>0.7455658702</td>\n      <td>0.7014699916</td>\n      <td>0.0006967990</td>\n      <td>0.3731433124</td>\n      <td>0.1245953419</td>\n      <td>100.2600000000</td>\n      <td>0.6216612236</td>\n    </tr>\n    <tr>\n      <th>10</th>\n      <td>0.9516699648</td>\n      <td>0.6581786543</td>\n      <td>0.9245251615</td>\n      <td>0.9654270154</td>\n      <td>0.1154738842</td>\n      <td>0.0329852191</td>\n      <td>111.5620000000</td>\n      <td>0.9635898919</td>\n    </tr>\n    <tr>\n      <th>134</th>\n      <td>0.4522173071</td>\n      <td>0.5132380502</td>\n      <td>0.5604099311</td>\n      <td>0.0194426943</td>\n      <td>0.0965666940</td>\n      <td>0.5255193792</td>\n      <td>114.2900000000</td>\n      <td>0.8940722715</td>\n    </tr>\n    <tr>\n      <th>...</th>\n      <td>...</td>\n      <td>...</td>\n      <td>...</td>\n      <td>...</td>\n      <td>...</td>\n      <td>...</td>\n      <td>...</td>\n      <td>...</td>\n    </tr>\n    <tr>\n      <th>124857</th>\n      <td>0.007592</td>\n      <td>0.790364</td>\n      <td>0.719288</td>\n      <td>0.853114</td>\n      <td>0.720715</td>\n      <td>0.08255</td>\n      <td>141.332</td>\n      <td>0.890461</td>\n    </tr>\n    <tr>\n      <th>124862</th>\n      <td>0.041498</td>\n      <td>0.843077</td>\n      <td>0.536496</td>\n      <td>0.865151</td>\n      <td>0.547949</td>\n      <td>0.074001</td>\n      <td>101.975</td>\n      <td>0.476845</td>\n    </tr>\n    <tr>\n      <th>124863</th>\n      <td>0.000124</td>\n      <td>0.609686</td>\n      <td>0.895136</td>\n      <td>0.846624</td>\n      <td>0.632903</td>\n      <td>0.051517</td>\n      <td>129.996</td>\n      <td>0.496667</td>\n    </tr>\n    <tr>\n      <th>124864</th>\n      <td>0.327576</td>\n      <td>0.574426</td>\n      <td>0.548327</td>\n      <td>0.452867</td>\n      <td>0.075928</td>\n      <td>0.033388</td>\n      <td>142.009</td>\n      <td>0.569274</td>\n    </tr>\n    <tr>\n      <th>124911</th>\n      <td>0.993606</td>\n      <td>0.499339</td>\n      <td>0.050622</td>\n      <td>0.945677</td>\n      <td>0.095965</td>\n      <td>0.065189</td>\n      <td>119.965</td>\n      <td>0.204652</td>\n    </tr>\n  </tbody>\n</table>\n<p>13129 rows × 8 columns</p>\n</div>"
          },
          "metadata": {}
        }
      ],
      "execution_count": null
    },
    {
      "cell_type": "code",
      "source": [
        "tracks"
      ],
      "metadata": {
        "trusted": true,
        "execution": {
          "iopub.status.busy": "2025-07-14T12:09:49.263321Z",
          "iopub.execute_input": "2025-07-14T12:09:49.263498Z",
          "iopub.status.idle": "2025-07-14T12:09:49.281583Z",
          "shell.execute_reply.started": "2025-07-14T12:09:49.263485Z",
          "shell.execute_reply": "2025-07-14T12:09:49.281013Z"
        },
        "id": "e3gC-qAZSeMj",
        "outputId": "aa54f4b5-a463-4b5c-a050-7a1136c729aa"
      },
      "outputs": [
        {
          "execution_count": 92,
          "output_type": "execute_result",
          "data": {
            "text/plain": "                 date_created        date_released  \\\ntrack_id                                             \n2         2008-11-26 01:44:45  2009-01-05 00:00:00   \n3         2008-11-26 01:44:45  2009-01-05 00:00:00   \n5         2008-11-26 01:44:45  2009-01-05 00:00:00   \n10        2008-11-26 01:45:08  2008-02-06 00:00:00   \n20        2008-11-26 01:45:05  2009-01-06 00:00:00   \n...                       ...                  ...   \n155316    2017-03-30 15:20:35  2017-02-17 00:00:00   \n155317    2017-03-30 15:20:35  2017-02-17 00:00:00   \n155318    2017-03-30 15:20:35  2017-02-17 00:00:00   \n155319    2017-03-30 15:20:35  2017-02-17 00:00:00   \n155320    2017-03-26 16:22:18  2017-03-26 00:00:00   \n\n                                  album  album_id  artist_id  \\\ntrack_id                                                       \n2                  AWOL - A Way Of Life         1          1   \n3                  AWOL - A Way Of Life         1          1   \n5                  AWOL - A Way Of Life         1          1   \n10                    Constant Hitmaker         6          6   \n20                                Niris         4          4   \n...                                 ...       ...        ...   \n155316    Live at Monty Hall, 2/17/2017     22940      24357   \n155317    Live at Monty Hall, 2/17/2017     22940      24357   \n155318    Live at Monty Hall, 2/17/2017     22940      24357   \n155319    Live at Monty Hall, 2/17/2017     22940      24357   \n155320        What I Tell Myself Vol. 2     22906      21615   \n\n                    artist genres_top         genres_all  \\\ntrack_id                                                   \n2                     AWOL    Hip-Hop               [21]   \n3                     AWOL    Hip-Hop               [21]   \n5                     AWOL    Hip-Hop               [21]   \n10               Kurt Vile        Pop               [10]   \n20              Nicky Cook        NaN  [17, 10, 76, 103]   \n...                    ...        ...                ...   \n155316             Spowder       Rock           [25, 12]   \n155317             Spowder       Rock           [25, 12]   \n155318             Spowder       Rock           [25, 12]   \n155319             Spowder       Rock           [25, 12]   \n155320    Forget the Whale        NaN   [169, 10, 12, 9]   \n\n                                              track  duration  \ntrack_id                                                       \n2                                              Food       168  \n3                                      Electric Ave       237  \n5                                        This World       206  \n10                                          Freeway       161  \n20                                  Spiritual Level       311  \n...                                             ...       ...  \n155316                                    The Auger       162  \n155317                              Let's Skin Ruby       217  \n155318           My House Smells Like Kim Deal/Pulp       404  \n155319                      The Man With Two Mouths       146  \n155320    Another Trick Up My Sleeve (Instrumental)       198  \n\n[106574 rows x 10 columns]",
            "text/html": "<div>\n<style scoped>\n    .dataframe tbody tr th:only-of-type {\n        vertical-align: middle;\n    }\n\n    .dataframe tbody tr th {\n        vertical-align: top;\n    }\n\n    .dataframe thead th {\n        text-align: right;\n    }\n</style>\n<table border=\"1\" class=\"dataframe\">\n  <thead>\n    <tr style=\"text-align: right;\">\n      <th></th>\n      <th>date_created</th>\n      <th>date_released</th>\n      <th>album</th>\n      <th>album_id</th>\n      <th>artist_id</th>\n      <th>artist</th>\n      <th>genres_top</th>\n      <th>genres_all</th>\n      <th>track</th>\n      <th>duration</th>\n    </tr>\n    <tr>\n      <th>track_id</th>\n      <th></th>\n      <th></th>\n      <th></th>\n      <th></th>\n      <th></th>\n      <th></th>\n      <th></th>\n      <th></th>\n      <th></th>\n      <th></th>\n    </tr>\n  </thead>\n  <tbody>\n    <tr>\n      <th>2</th>\n      <td>2008-11-26 01:44:45</td>\n      <td>2009-01-05 00:00:00</td>\n      <td>AWOL - A Way Of Life</td>\n      <td>1</td>\n      <td>1</td>\n      <td>AWOL</td>\n      <td>Hip-Hop</td>\n      <td>[21]</td>\n      <td>Food</td>\n      <td>168</td>\n    </tr>\n    <tr>\n      <th>3</th>\n      <td>2008-11-26 01:44:45</td>\n      <td>2009-01-05 00:00:00</td>\n      <td>AWOL - A Way Of Life</td>\n      <td>1</td>\n      <td>1</td>\n      <td>AWOL</td>\n      <td>Hip-Hop</td>\n      <td>[21]</td>\n      <td>Electric Ave</td>\n      <td>237</td>\n    </tr>\n    <tr>\n      <th>5</th>\n      <td>2008-11-26 01:44:45</td>\n      <td>2009-01-05 00:00:00</td>\n      <td>AWOL - A Way Of Life</td>\n      <td>1</td>\n      <td>1</td>\n      <td>AWOL</td>\n      <td>Hip-Hop</td>\n      <td>[21]</td>\n      <td>This World</td>\n      <td>206</td>\n    </tr>\n    <tr>\n      <th>10</th>\n      <td>2008-11-26 01:45:08</td>\n      <td>2008-02-06 00:00:00</td>\n      <td>Constant Hitmaker</td>\n      <td>6</td>\n      <td>6</td>\n      <td>Kurt Vile</td>\n      <td>Pop</td>\n      <td>[10]</td>\n      <td>Freeway</td>\n      <td>161</td>\n    </tr>\n    <tr>\n      <th>20</th>\n      <td>2008-11-26 01:45:05</td>\n      <td>2009-01-06 00:00:00</td>\n      <td>Niris</td>\n      <td>4</td>\n      <td>4</td>\n      <td>Nicky Cook</td>\n      <td>NaN</td>\n      <td>[17, 10, 76, 103]</td>\n      <td>Spiritual Level</td>\n      <td>311</td>\n    </tr>\n    <tr>\n      <th>...</th>\n      <td>...</td>\n      <td>...</td>\n      <td>...</td>\n      <td>...</td>\n      <td>...</td>\n      <td>...</td>\n      <td>...</td>\n      <td>...</td>\n      <td>...</td>\n      <td>...</td>\n    </tr>\n    <tr>\n      <th>155316</th>\n      <td>2017-03-30 15:20:35</td>\n      <td>2017-02-17 00:00:00</td>\n      <td>Live at Monty Hall, 2/17/2017</td>\n      <td>22940</td>\n      <td>24357</td>\n      <td>Spowder</td>\n      <td>Rock</td>\n      <td>[25, 12]</td>\n      <td>The Auger</td>\n      <td>162</td>\n    </tr>\n    <tr>\n      <th>155317</th>\n      <td>2017-03-30 15:20:35</td>\n      <td>2017-02-17 00:00:00</td>\n      <td>Live at Monty Hall, 2/17/2017</td>\n      <td>22940</td>\n      <td>24357</td>\n      <td>Spowder</td>\n      <td>Rock</td>\n      <td>[25, 12]</td>\n      <td>Let's Skin Ruby</td>\n      <td>217</td>\n    </tr>\n    <tr>\n      <th>155318</th>\n      <td>2017-03-30 15:20:35</td>\n      <td>2017-02-17 00:00:00</td>\n      <td>Live at Monty Hall, 2/17/2017</td>\n      <td>22940</td>\n      <td>24357</td>\n      <td>Spowder</td>\n      <td>Rock</td>\n      <td>[25, 12]</td>\n      <td>My House Smells Like Kim Deal/Pulp</td>\n      <td>404</td>\n    </tr>\n    <tr>\n      <th>155319</th>\n      <td>2017-03-30 15:20:35</td>\n      <td>2017-02-17 00:00:00</td>\n      <td>Live at Monty Hall, 2/17/2017</td>\n      <td>22940</td>\n      <td>24357</td>\n      <td>Spowder</td>\n      <td>Rock</td>\n      <td>[25, 12]</td>\n      <td>The Man With Two Mouths</td>\n      <td>146</td>\n    </tr>\n    <tr>\n      <th>155320</th>\n      <td>2017-03-26 16:22:18</td>\n      <td>2017-03-26 00:00:00</td>\n      <td>What I Tell Myself Vol. 2</td>\n      <td>22906</td>\n      <td>21615</td>\n      <td>Forget the Whale</td>\n      <td>NaN</td>\n      <td>[169, 10, 12, 9]</td>\n      <td>Another Trick Up My Sleeve (Instrumental)</td>\n      <td>198</td>\n    </tr>\n  </tbody>\n</table>\n<p>106574 rows × 10 columns</p>\n</div>"
          },
          "metadata": {}
        }
      ],
      "execution_count": null
    },
    {
      "cell_type": "code",
      "source": [
        "tracks.isnull().sum()"
      ],
      "metadata": {
        "trusted": true,
        "execution": {
          "iopub.status.busy": "2025-07-14T12:09:49.282232Z",
          "iopub.execute_input": "2025-07-14T12:09:49.282492Z",
          "iopub.status.idle": "2025-07-14T12:09:49.326192Z",
          "shell.execute_reply.started": "2025-07-14T12:09:49.28247Z",
          "shell.execute_reply": "2025-07-14T12:09:49.325679Z"
        },
        "id": "-EjvxxuOSeMk",
        "outputId": "69357f87-593d-4e12-bfd7-5724986f941a"
      },
      "outputs": [
        {
          "execution_count": 93,
          "output_type": "execute_result",
          "data": {
            "text/plain": "date_created      3529\ndate_released    36280\nalbum             1025\nalbum_id             0\nartist_id            0\nartist               0\ngenres_top       56976\ngenres_all           0\ntrack                1\nduration             0\ndtype: int64"
          },
          "metadata": {}
        }
      ],
      "execution_count": null
    },
    {
      "cell_type": "code",
      "source": [
        "tracks['date_released'].fillna(tracks['date_created'], inplace=True)\n",
        "tracks['date_released'].fillna(0,inplace=True)\n",
        "tracks.drop('date_created', axis=1, inplace=True)\n",
        "\n",
        "tracks=tracks[tracks['genres_all']!='[]']\n",
        "\n",
        "tracks['genres_all']=[map(int, i.strip('][').split(',')) for i in tracks['genres_all']]\n",
        "\n",
        "genres_null = tracks.loc[(tracks['genres_top'].isnull()), ['genres_top', 'genres_all']].copy(deep=True)\n",
        "\n",
        "genres_top=genres[genres.top_level==genres.genre_id]\n",
        "\n",
        "genres_top_dict=dict(zip(genres_top.genre_id, genres_top.title))\n",
        "\n",
        "for index, row in genres_null.iterrows():\n",
        "    for  genre in row['genres_all']:\n",
        "        if genre in genres_top_dict:\n",
        "            tracks.loc[index,'genres_top']=genres_top_dict[genre]\n",
        "            break\n",
        "\n",
        "genres_all_dict=dict(zip(genres.genre_id,genres.title))\n",
        "\n",
        "#fill missing album, title with corresponding\n",
        "tracks['genres_all']=[[genres_all_dict[j]for j in i]for i in tracks['genres_all']]\n",
        "\n",
        "tracks['album'].fillna(tracks['artist']+'-'+[','.join(i) for i in tracks['genres_all']],inplace=True)\n",
        "\n",
        "tracks['track'].fillna(tracks['artist']+ '-'+ tracks['genres_top'],inplace=True)\n",
        "\n",
        "tracks.isnull().sum()"
      ],
      "metadata": {
        "trusted": true,
        "execution": {
          "iopub.status.busy": "2025-07-14T12:09:49.326753Z",
          "iopub.execute_input": "2025-07-14T12:09:49.326921Z",
          "iopub.status.idle": "2025-07-14T12:10:16.366357Z",
          "shell.execute_reply.started": "2025-07-14T12:09:49.326908Z",
          "shell.execute_reply": "2025-07-14T12:10:16.365429Z"
        },
        "id": "jJ9PMvWkSeMl",
        "outputId": "a6538eeb-136b-4c6e-c22b-a0601e821285"
      },
      "outputs": [
        {
          "execution_count": 94,
          "output_type": "execute_result",
          "data": {
            "text/plain": "date_released    0\nalbum            0\nalbum_id         0\nartist_id        0\nartist           0\ngenres_top       0\ngenres_all       0\ntrack            0\nduration         0\ndtype: int64"
          },
          "metadata": {}
        }
      ],
      "execution_count": null
    },
    {
      "cell_type": "code",
      "source": [
        "genres_top_dict"
      ],
      "metadata": {
        "trusted": true,
        "execution": {
          "iopub.status.busy": "2025-07-14T12:10:16.367175Z",
          "iopub.execute_input": "2025-07-14T12:10:16.367454Z",
          "iopub.status.idle": "2025-07-14T12:10:16.372757Z",
          "shell.execute_reply.started": "2025-07-14T12:10:16.367432Z",
          "shell.execute_reply": "2025-07-14T12:10:16.371967Z"
        },
        "id": "fkFNO0RJSeMl",
        "outputId": "aa0e200b-f58b-4c44-cde1-aa6d702274b6"
      },
      "outputs": [
        {
          "execution_count": 95,
          "output_type": "execute_result",
          "data": {
            "text/plain": "{2: 'International',\n 3: 'Blues',\n 4: 'Jazz',\n 5: 'Classical',\n 8: 'Old-Time / Historic',\n 9: 'Country',\n 10: 'Pop',\n 12: 'Rock',\n 13: 'Easy Listening',\n 14: 'Soul-RnB',\n 15: 'Electronic',\n 17: 'Folk',\n 20: 'Spoken',\n 21: 'Hip-Hop',\n 38: 'Experimental',\n 1235: 'Instrumental'}"
          },
          "metadata": {}
        }
      ],
      "execution_count": null
    },
    {
      "cell_type": "code",
      "source": [
        "tracks['date_released'] = pd.to_datetime(tracks['date_released'], format=\"%Y-%m-%d %H:%M:%S\", errors='coerce')\n",
        "tracks[['album','artist','track','genres_top']]=tracks[['album','artist','track','genres_top']].astype('string')"
      ],
      "metadata": {
        "trusted": true,
        "execution": {
          "iopub.status.busy": "2025-07-14T12:22:57.878592Z",
          "iopub.execute_input": "2025-07-14T12:22:57.879103Z",
          "iopub.status.idle": "2025-07-14T12:22:57.917479Z",
          "shell.execute_reply.started": "2025-07-14T12:22:57.879081Z",
          "shell.execute_reply": "2025-07-14T12:22:57.916766Z"
        },
        "id": "U_nAlyuVSeMm"
      },
      "outputs": [],
      "execution_count": null
    },
    {
      "cell_type": "code",
      "source": [
        "genres['title']=genres['title'].astype('string')"
      ],
      "metadata": {
        "trusted": true,
        "execution": {
          "iopub.status.busy": "2025-07-14T12:25:31.727249Z",
          "iopub.execute_input": "2025-07-14T12:25:31.727742Z",
          "iopub.status.idle": "2025-07-14T12:25:31.731729Z",
          "shell.execute_reply.started": "2025-07-14T12:25:31.727719Z",
          "shell.execute_reply": "2025-07-14T12:25:31.731027Z"
        },
        "id": "EOPlQnNmSeMm"
      },
      "outputs": [],
      "execution_count": null
    },
    {
      "cell_type": "code",
      "source": [
        "spotify_data=spotify_data.apply(pd.to_numeric)"
      ],
      "metadata": {
        "trusted": true,
        "execution": {
          "iopub.status.busy": "2025-07-14T12:27:49.956053Z",
          "iopub.execute_input": "2025-07-14T12:27:49.956752Z",
          "iopub.status.idle": "2025-07-14T12:27:49.975757Z",
          "shell.execute_reply.started": "2025-07-14T12:27:49.956727Z",
          "shell.execute_reply": "2025-07-14T12:27:49.975012Z"
        },
        "id": "ZhhVUZ9xSeMm"
      },
      "outputs": [],
      "execution_count": null
    },
    {
      "cell_type": "code",
      "source": [],
      "metadata": {
        "trusted": true,
        "id": "AhReSo_DSeMn"
      },
      "outputs": [],
      "execution_count": null
    }
  ]
}